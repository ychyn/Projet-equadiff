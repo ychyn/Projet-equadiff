import numpy as np 
import matplotlib.pyplot as plt
import matplotlib.animation as animation
from mpl_toolkits.mplot3d import Axes3D
#%matplotlib notebook
plt.rcParams["figure.figsize"] = (14,7)























E=2
delta=1 
T=50
u = lambda t: (1-np.cos(2*np.pi*t/T))*np.cos(E*t+ np.sin(np.pi *t/T)/(np.pi/T))
t_0,t_f = 0,50
psi_0=np.array([0,0,-1])
dt=1e-3
Omega_x=np.array([[0,0,0],[0,0,-1],[0,1,0]])
Omega_z=np.array([[0,-1,0],[1,0,0],[0,0,0]])

def F(psi,t,E,delta):
    return (E*Omega_z + delta*u(t)*Omega_x).dot(psi)

def F_1(psi,t,E,delta):
    return np.linalg.inv(np.identity(3) - dt*(E*Omega_z + delta*u(t)*Omega_x)).dot(psi)

def norme(X):
    return ((X[:,0]**2+X[:,1]**2+X[:,2]**2)**(1/2))

def euler_explicit(psi_0,t_0,t_f,E,delta,dt):
    N = int((t_f - t_0) // dt)
    X = np.zeros((N+1,3))
    X[0] = psi_0
    psi = psi_0
    for i in range(N):
        psi = psi + dt*F(psi,t_0 + i*dt,E,delta)
        X[i+1] = (psi)
    return X

def euler_implicit(psi_0,t_0,t_f,E,delta,dt):
    N = int((t_f - t_0) // dt)
    X = np.zeros((N+1,3))
    X[0] = psi_0
    psi = psi_0
    for i in range(N):
        psi = F_1(psi,t_0+(i+1)*dt,E,delta)
        X[i+1] = (psi)
    return X

def euler_projete(psi_0,t_0,t_f,E,delta,dt):
    ax = plt.figure().add_subplot(projection='3d')

    X = (euler_implicit(psi_0,t_0,t_f,E,delta,dt))

    ax.plot(X[:,0],X[:,1],X[:,2], label='parametric curve')
    ax.legend()

    plt.show()
    return None


X = (euler_explicit(psi_0,t_0,t_f,E,delta,dt))

plt.plot(np.arange(X.shape[0]),norme(X))


X = euler_implicit(psi_0,t_0,t_f,E,delta,dt)

plt.plot(np.arange(X.shape[0]),norme(X))


euler_projete(psi_0,t_0,t_f,E,delta,dt)








p = 10 # mis a 2 par lisibilité, à modifier avant de rendre
alpha = 0.5
delta_min,delta_max= 0.4,3.5
liste_E = np.random.uniform(E-alpha,E+alpha,p)
liste_delta = np.random.uniform(delta_min, delta_max, p)

liste_distance_final = np.zeros((10,3))
for i in range(p):
    X = euler_explicit(psi_0, t_0, t_f, liste_E[i], liste_delta[i], dt)
    #ax = plt.figure().add_subplot(projection='3d')
    #ax.plot(X[:,0],X[:,1],X[:,2])
    liste_distance_final[i] = X[-1] - np.array([0,0,1])

print("Les écarts des valeurs finales à la valeur esperée sont les suivants (calculés à l'aide de la norme euclidienne canonique): ")
print(norme(liste_distance_final))











I=np.eye(3)

def matrice_transition(t_in,t_f,E,dt):
    temps=np.arange(t_in,t_f+dt/2,dt)
    N=len(temps)
    sol=np.empty((N,3,3))
    sol[0]=np.eye(3)
    for j,t in enumerate(temps[:-1]):
        sol[j+1]= ...
    return temps,sol

temps,sol_mat_trans = matrice_transition(0,T,E,dt)

fig = plt.figure()
ax = fig.add_subplot(111, projection='3d')
ax.plot((sol_mat_trans@psi_0)[:,0],(sol_mat_trans@psi_0)[:,1],(sol_mat_trans@psi_0)[:,2])
ax.set_title('Solution via (4)')

fig, ax = fig.figure()
ax.plot(temps, np.linalg.norm(np.einsum('nij,nkj-> nik',sol_mat_trans,sol_mat_trans)-I,axis=(1,2)),label='norm of U^T U -I_3 ')
ax.legend()
ax.set_title('Vérification de la préservation du groupe')

print(f"Valeur finale de psi : {sol_mat_trans[-1]@psi_0}")









